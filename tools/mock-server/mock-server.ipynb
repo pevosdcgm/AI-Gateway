{
 "cells": [
  {
   "cell_type": "markdown",
   "metadata": {},
   "source": [
    "# APIM ❤️ OpenAI\n",
    "\n",
    "## OpenAI Mock Server(s)\n",
    "\n",
    "This notebook provides guidance on the use of mock servers locally and in Azure. The AI-Gateway Mock server is designed to mimic the behavior and responses of the OpenAI API, thereby creating an efficient simulation environment suitable for testing and development purposes on the integration with APIM and other use cases.\n",
    "The [app.py](app.py) can be customized to tailor the Mock server to specific use cases.\n",
    "\n",
    "### Run locally\n",
    "Open a terminal and type:\n",
    "```\n",
    "pip install -r requirements.txt\n",
    "flask --app app.py --debug run\n",
    "```\n",
    "### Deploy to Azure Web Apps\n",
    "Prerequisites\n",
    "- [Python 3.8 or later version](https://www.python.org/) installed\n",
    "- [VS Code](https://code.visualstudio.com/) installed with the [Jupyter notebook extension](https://marketplace.visualstudio.com/items?itemName=ms-toolsai.jupyter) enabled\n",
    "- [Azure CLI](https://learn.microsoft.com/en-us/cli/azure/install-azure-cli) installed\n",
    "- [An Azure Subscription](https://azure.microsoft.com/en-us/free/) with Contributor permissions\n",
    "- [Sign in to Azure with Azure CLI](https://learn.microsoft.com/en-us/cli/azure/authenticate-azure-cli-interactively)\n",
    "\n",
    "Execute the following steps to deploy to Azure.\n",
    "The ```mock_webapps``` is a list of names that will be used to create the Azure Web App(s). All the Web Apps will reuse the same App Service Plan."
   ]
  },
  {
   "cell_type": "markdown",
   "metadata": {},
   "source": [
    "### 0️⃣ Initialize notebook variables"
   ]
  },
  {
   "cell_type": "code",
   "execution_count": 6,
   "metadata": {},
   "outputs": [],
   "source": [
    "prefix=\"spevo5-\"\n",
    "mock_resource_group = prefix + \"lab-ai-gateway-mock\"\n",
    "#mock_location = \"swedencentral\" # the location that will be used for the resource group, app service plan and web apps\n",
    "mock_location = \"westeurope\" # the location that will be used for the resource group, app service plan and web apps\n",
    "mock_webapps = [ {\"name\": prefix + \"openaimock1\"}, {\"name\": prefix + \"openaimock2\"} ] # ensure that the names are not being used within Azure\n",
    "mock_webapp_runtime = \"PYTHON:3.12\"\n",
    "mock_app_service_plan = prefix + \"openaimock-plan\"\n",
    "mock_app_service_plan_sku = \"B1\"\n"
   ]
  },
  {
   "cell_type": "code",
   "execution_count": 3,
   "metadata": {},
   "outputs": [
    {
     "name": "stdout",
     "output_type": "stream",
     "text": [
      "<Response [200]>\n"
     ]
    }
   ],
   "source": [
    "import requests\n",
    "url = \"https://www.google.com\" \n",
    "try: \n",
    "    r = requests.get(url, timeout=1) \n",
    "    r.raise_for_status() \n",
    "except requests.exceptions.HTTPError as errh: \n",
    "    print(\"HTTP Error\") \n",
    "    print(errh.args[0]) \n",
    "# Prints the response code \n",
    "print(r) "
   ]
  },
  {
   "cell_type": "markdown",
   "metadata": {},
   "source": [
    "### 1️⃣ Deploy or update Mock Server(s)\n",
    "The following command is an [all-in-one command](https://learn.microsoft.com/en-us/cli/azure/webapp?view=azure-cli-latest#az-webapp-up) that creates all the Azure resources and deploys the source code. When finished it should open a browser window for each Mock server created.\n",
    "You can repeat this step if you modify the ```app.py``` file to incorporate your specific mocking behavior. This will allow you to redeploy using the same resources that were previously created. "
   ]
  },
  {
   "cell_type": "code",
   "execution_count": 7,
   "metadata": {},
   "outputs": [
    {
     "name": "stdout",
     "output_type": "stream",
     "text": [
      "{\n",
      "  \"appserviceplan\": \"spevo5-openaimock-plan\",\n",
      "  \"location\": \"westeurope\",\n",
      "  \"name\": \"spevo5-openaimock1\",\n",
      "  \"os\": \"Linux\",\n",
      "  \"resourcegroup\": \"spevo5-lab-ai-gateway-mock\",\n",
      "  \"runtime_version\": \"PYTHON|3.12\",\n",
      "  \"runtime_version_detected\": \"-\",\n",
      "  \"sku\": \"BASIC\",\n",
      "  \"src_path\": \"c:\\\\Users\\\\u3184\\\\azdevops\\\\pevosdcgh\\\\AI-Gateway\\\\tools\\\\mock-server\"\n",
      "}\n"
     ]
    },
    {
     "name": "stderr",
     "output_type": "stream",
     "text": [
      "D:\\a\\_work\\1\\s\\build_scripts\\windows\\artifacts\\cli\\Lib\\site-packages\\paramiko/pkey.py:100: CryptographyDeprecationWarning: TripleDES has been moved to cryptography.hazmat.decrepit.ciphers.algorithms.TripleDES and will be removed from this module in 48.0.0.\n",
      "D:\\a\\_work\\1\\s\\build_scripts\\windows\\artifacts\\cli\\Lib\\site-packages\\paramiko/transport.py:259: CryptographyDeprecationWarning: TripleDES has been moved to cryptography.hazmat.decrepit.ciphers.algorithms.TripleDES and will be removed from this module in 48.0.0.\n",
      "WARNING: The webapp 'spevo5-openaimock1' doesn't exist\n",
      "WARNING: Creating Resource group 'spevo5-lab-ai-gateway-mock' ...\n",
      "WARNING: Resource group creation complete\n",
      "WARNING: Creating AppServicePlan 'spevo5-openaimock-plan' or Updating if already exists\n",
      "WARNING: Readonly attribute name will be ignored in class <class 'azure.mgmt.web.v2023_01_01.models._models_py3.AppServicePlan'>\n",
      "WARNING: Creating webapp 'spevo5-openaimock1' ...\n",
      "WARNING: Configuring default logging for the app, if not already enabled\n",
      "WARNING: Creating zip with contents of dir c:\\Users\\u3184\\azdevops\\pevosdcgh\\AI-Gateway\\tools\\mock-server ...\n",
      "WARNING: Getting scm site credentials for zip deployment\n",
      "WARNING: Starting zip deployment. This operation can take a while to complete ...\n",
      "WARNING: Deployment endpoint responded with status code 202\n",
      "WARNING: Polling the status of async deployment. Start Time: 2024-10-15 14:43:58.532716+00:00 UTC\n",
      "WARNING: Status: Building the app... Time: 1(s)\n",
      "WARNING: Status: Building the app... Time: 19(s)\n",
      "WARNING: Status: Building the app... Time: 36(s)\n",
      "WARNING: Status: Building the app... Time: 54(s)\n",
      "WARNING: Status: Building the app... Time: 71(s)\n",
      "WARNING: Status: Building the app... Time: 87(s)\n",
      "WARNING: Status: Building the app... Time: 104(s)\n",
      "WARNING: Status: Building the app... Time: 120(s)\n",
      "WARNING: Status: Build successful. Time: 136(s)\n",
      "WARNING: Status: Starting the site... Time: 153(s)\n",
      "WARNING: Status: Starting the site... Time: 169(s)\n",
      "WARNING: Status: Starting the site... Time: 185(s)\n",
      "WARNING: Status: Starting the site... Time: 201(s)\n",
      "WARNING: Status: Starting the site... Time: 218(s)\n",
      "WARNING: Status: Starting the site... Time: 234(s)\n",
      "WARNING: Status: Starting the site... Time: 250(s)\n",
      "WARNING: Status: Starting the site... Time: 266(s)\n",
      "WARNING: Status: Starting the site... Time: 285(s)\n",
      "WARNING: Status: Starting the site... Time: 301(s)\n",
      "WARNING: Status: Starting the site... Time: 317(s)\n",
      "WARNING: Status: Starting the site... Time: 333(s)\n",
      "WARNING: Status: Starting the site... Time: 349(s)\n",
      "WARNING: Status: Site started successfully. Time: 368(s)\n",
      "WARNING: Launching app using default browser\n",
      "WARNING: Setting 'az webapp up' default arguments for current directory. Manage defaults with 'az configure --scope local'\n",
      "WARNING: --resource-group/-g default: spevo5-lab-ai-gateway-mock\n",
      "WARNING: --sku default: B1\n",
      "WARNING: --plan/-p default: spevo5-openaimock-plan\n",
      "WARNING: --location/-l default: westeurope\n",
      "WARNING: --name/-n default: spevo5-openaimock1\n"
     ]
    },
    {
     "name": "stdout",
     "output_type": "stream",
     "text": [
      "{\n",
      "  \"appserviceplan\": \"spevo5-openaimock-plan\",\n",
      "  \"location\": \"westeurope\",\n",
      "  \"name\": \"spevo5-openaimock2\",\n",
      "  \"os\": \"Linux\",\n",
      "  \"resourcegroup\": \"spevo5-lab-ai-gateway-mock\",\n",
      "  \"runtime_version\": \"PYTHON|3.12\",\n",
      "  \"runtime_version_detected\": \"-\",\n",
      "  \"sku\": \"BASIC\",\n",
      "  \"src_path\": \"c:\\\\Users\\\\u3184\\\\azdevops\\\\pevosdcgh\\\\AI-Gateway\\\\tools\\\\mock-server\"\n",
      "}\n"
     ]
    },
    {
     "name": "stderr",
     "output_type": "stream",
     "text": [
      "D:\\a\\_work\\1\\s\\build_scripts\\windows\\artifacts\\cli\\Lib\\site-packages\\paramiko/pkey.py:100: CryptographyDeprecationWarning: TripleDES has been moved to cryptography.hazmat.decrepit.ciphers.algorithms.TripleDES and will be removed from this module in 48.0.0.\n",
      "D:\\a\\_work\\1\\s\\build_scripts\\windows\\artifacts\\cli\\Lib\\site-packages\\paramiko/transport.py:259: CryptographyDeprecationWarning: TripleDES has been moved to cryptography.hazmat.decrepit.ciphers.algorithms.TripleDES and will be removed from this module in 48.0.0.\n",
      "WARNING: The webapp 'spevo5-openaimock2' doesn't exist\n",
      "WARNING: Creating AppServicePlan 'spevo5-openaimock-plan' or Updating if already exists\n",
      "WARNING: Readonly attribute name will be ignored in class <class 'azure.mgmt.web.v2023_01_01.models._models_py3.AppServicePlan'>\n",
      "WARNING: Creating webapp 'spevo5-openaimock2' ...\n",
      "WARNING: Configuring default logging for the app, if not already enabled\n",
      "WARNING: Creating zip with contents of dir c:\\Users\\u3184\\azdevops\\pevosdcgh\\AI-Gateway\\tools\\mock-server ...\n",
      "WARNING: Getting scm site credentials for zip deployment\n",
      "WARNING: Starting zip deployment. This operation can take a while to complete ...\n",
      "WARNING: Deployment endpoint responded with status code 202\n",
      "WARNING: Polling the status of async deployment. Start Time: 2024-10-15 14:51:40.771181+00:00 UTC\n",
      "WARNING: Status: Building the app... Time: 1(s)\n",
      "WARNING: Status: Building the app... Time: 19(s)\n",
      "WARNING: Status: Building the app... Time: 36(s)\n",
      "WARNING: Status: Building the app... Time: 53(s)\n",
      "WARNING: Status: Building the app... Time: 71(s)\n",
      "WARNING: Status: Building the app... Time: 87(s)\n",
      "WARNING: Status: Building the app... Time: 104(s)\n",
      "WARNING: Status: Building the app... Time: 120(s)\n",
      "WARNING: Status: Building the app... Time: 137(s)\n",
      "WARNING: Status: Building the app... Time: 154(s)\n",
      "WARNING: Status: Build successful. Time: 171(s)\n",
      "WARNING: Status: Starting the site... Time: 187(s)\n",
      "WARNING: Status: Starting the site... Time: 204(s)\n",
      "WARNING: Status: Starting the site... Time: 220(s)\n",
      "WARNING: Status: Site started successfully. Time: 236(s)\n",
      "WARNING: Launching app using default browser\n",
      "WARNING: Setting 'az webapp up' default arguments for current directory. Manage defaults with 'az configure --scope local'\n",
      "WARNING: --resource-group/-g default: spevo5-lab-ai-gateway-mock\n",
      "WARNING: --sku default: B1\n",
      "WARNING: --plan/-p default: spevo5-openaimock-plan\n",
      "WARNING: --location/-l default: westeurope\n",
      "WARNING: --name/-n default: spevo5-openaimock2\n"
     ]
    }
   ],
   "source": [
    "for mock_webapp in mock_webapps:\n",
    "    mock_webapp_name = mock_webapp.get(\"name\")\n",
    "    ! az webapp up --resource-group {mock_resource_group} --name {mock_webapp_name} --location {mock_location} \\\n",
    "        --plan {mock_app_service_plan} --runtime {mock_webapp_runtime} --sku {mock_app_service_plan_sku} --track-status true --launch-browser "
   ]
  },
  {
   "cell_type": "markdown",
   "metadata": {},
   "source": [
    "### 2️⃣ Test the Mock server(s)\n",
    "The following code uses the Python HTTP client library to simulate OpenAI requests to the Mock server(s). To guide the mock server towards simulating behaviors such as returning a specific status code or incorporating a delay to influence the response time, you may modify the content structure as illustrated below."
   ]
  },
  {
   "cell_type": "code",
   "execution_count": 9,
   "metadata": {},
   "outputs": [
    {
     "name": "stdout",
     "output_type": "stream",
     "text": [
      "https://spevo5-openaimock1.azurewebsites.net/openai/deployments/gpt-35-turbo/chat/completions?api-version=2024-02-01\n",
      "status code:  200\n",
      "headers:  {'Content-Length': '323', 'Content-Type': 'text/html; charset=utf-8', 'Date': 'Tue, 15 Oct 2024 15:22:48 GMT', 'Server': 'gunicorn', 'Set-Cookie': 'ARRAffinity=3ffa3d93a09a1869ceb46c01bf256f61269bc4a092da75b28f4fd60aa1885b5c;Path=/;HttpOnly;Secure;Domain=spevo5-openaimock1.azurewebsites.net, ARRAffinitySameSite=3ffa3d93a09a1869ceb46c01bf256f61269bc4a092da75b28f4fd60aa1885b5c;Path=/;HttpOnly;SameSite=None;Secure;Domain=spevo5-openaimock1.azurewebsites.net', 'x-ratelimit-remaining-tokens': '5000', 'x-ratelimit-remaining-requests': '50', 'x-ms-region': 'spevo5-openaimock1.azurewebsites.net'}\n",
      "response:  Mock response from spevo5-openaimock1.azurewebsites.net\n",
      "https://spevo5-openaimock2.azurewebsites.net/openai/deployments/gpt-35-turbo/chat/completions?api-version=2024-02-01\n",
      "status code:  200\n",
      "headers:  {'Content-Length': '323', 'Content-Type': 'text/html; charset=utf-8', 'Date': 'Tue, 15 Oct 2024 15:22:49 GMT', 'Server': 'gunicorn', 'Set-Cookie': 'ARRAffinity=3ffa3d93a09a1869ceb46c01bf256f61269bc4a092da75b28f4fd60aa1885b5c;Path=/;HttpOnly;Secure;Domain=spevo5-openaimock2.azurewebsites.net, ARRAffinitySameSite=3ffa3d93a09a1869ceb46c01bf256f61269bc4a092da75b28f4fd60aa1885b5c;Path=/;HttpOnly;SameSite=None;Secure;Domain=spevo5-openaimock2.azurewebsites.net', 'x-ratelimit-remaining-tokens': '5000', 'x-ratelimit-remaining-requests': '50', 'x-ms-region': 'spevo5-openaimock2.azurewebsites.net'}\n",
      "response:  Mock response from spevo5-openaimock2.azurewebsites.net\n"
     ]
    }
   ],
   "source": [
    "import json\n",
    "import requests\n",
    "\n",
    "for mock_webapp in mock_webapps:\n",
    "    mock_webapp_name = mock_webapp.get(\"name\")\n",
    "    url = \"https://\" + mock_webapp_name + \".azurewebsites.net/openai/deployments/gpt5/chat/completions?api-version=2024-02-01\"\n",
    "    url = \"https://\" + mock_webapp_name + \".azurewebsites.net/openai/deployments/gpt-35-turbo/chat/completions?api-version=2024-02-01\"\n",
    "    print(url)\n",
    "    messages={\n",
    "        \"messages\": [\n",
    "            {\n",
    "                \"role\": \"system\", \n",
    "                \"content\": {\n",
    "                    \"simulation\": {\n",
    "                        \"default\": {\"response_status_code\": 200, \"wait_time_ms\": 0}\n",
    "                    }\n",
    "                }\n",
    "            }\n",
    "        ]\n",
    "    }\n",
    "    messages2={\n",
    "        \"messages\": [\n",
    "            {\n",
    "                \"role\": \"system\", \n",
    "                \"content\": \"You are a sarcastic unhelpful assistant.\"\n",
    "            },\n",
    "            {\"role\": \"user\", \n",
    "            \"content\": \"Can you tell me the time, please?\"\n",
    "            }\n",
    "        ]\n",
    "    }\n",
    "    response = requests.post(url, json = messages2)\n",
    "    print(\"status code: \", response.status_code)\n",
    "    print(\"headers: \", response.headers)\n",
    "    if (response.status_code == 200):\n",
    "        data = json.loads(response.text)\n",
    "        print(\"response: \", data.get(\"choices\")[0].get(\"message\").get(\"content\"))\n",
    "    else:\n",
    "        print(response.text)"
   ]
  },
  {
   "cell_type": "markdown",
   "metadata": {},
   "source": [
    "### (optional) Stream logs\n",
    "\n",
    "Execute the result of the following script in a terminal to tail the streamed logs"
   ]
  },
  {
   "cell_type": "code",
   "execution_count": 8,
   "metadata": {},
   "outputs": [
    {
     "name": "stdout",
     "output_type": "stream",
     "text": [
      "az webapp log tail --name spevo5-openaimock1 --resource-group spevo5-lab-ai-gateway-mock\n",
      "az webapp log tail --name spevo5-openaimock2 --resource-group spevo5-lab-ai-gateway-mock\n"
     ]
    }
   ],
   "source": [
    "for mock_webapp in mock_webapps:\n",
    "    mock_webapp_name = mock_webapp.get(\"name\")\n",
    "    ! echo az webapp log tail --name {mock_webapp_name} --resource-group {mock_resource_group}"
   ]
  },
  {
   "cell_type": "markdown",
   "metadata": {},
   "source": [
    "### 🗑️ Clean up resources\n",
    "\n",
    "When you're finished with the APIM ❤️ OpenAI Mock server(s), you can remove all your deployed resources from Azure. To avoid extra charges and keep your Azure subscription uncluttered. Removing the resource group is the fastest way to remove all Azure resources that you have created."
   ]
  },
  {
   "cell_type": "code",
   "execution_count": 10,
   "metadata": {},
   "outputs": [
    {
     "ename": "",
     "evalue": "",
     "output_type": "error",
     "traceback": [
      "\u001b[1;31mThe Kernel crashed while executing code in the current cell or a previous cell. \n",
      "\u001b[1;31mPlease review the code in the cell(s) to identify a possible cause of the failure. \n",
      "\u001b[1;31mClick <a href='https://aka.ms/vscodeJupyterKernelCrash'>here</a> for more info. \n",
      "\u001b[1;31mView Jupyter <a href='command:jupyter.viewOutput'>log</a> for further details."
     ]
    }
   ],
   "source": [
    "run_cell = True\n",
    "if run_cell:\n",
    "    ! az group delete --name {mock_resource_group} -y"
   ]
  }
 ],
 "metadata": {
  "kernelspec": {
   "display_name": ".venv",
   "language": "python",
   "name": "python3"
  },
  "language_info": {
   "codemirror_mode": {
    "name": "ipython",
    "version": 3
   },
   "file_extension": ".py",
   "mimetype": "text/x-python",
   "name": "python",
   "nbconvert_exporter": "python",
   "pygments_lexer": "ipython3",
   "version": "3.12.0"
  },
  "polyglot_notebook": {
   "kernelInfo": {
    "defaultKernelName": "csharp",
    "items": [
     {
      "aliases": [],
      "name": "csharp"
     }
    ]
   }
  }
 },
 "nbformat": 4,
 "nbformat_minor": 2
}
