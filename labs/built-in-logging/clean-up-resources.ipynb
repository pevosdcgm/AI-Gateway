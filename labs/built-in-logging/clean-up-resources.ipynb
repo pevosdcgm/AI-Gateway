{
 "cells": [
  {
   "cell_type": "markdown",
   "metadata": {},
   "source": [
    "### 🗑️ Clean up resources\n",
    "\n",
    "When you're finished with the lab, you should remove all your deployed resources from Azure to avoid extra charges and keep your Azure subscription uncluttered."
   ]
  },
  {
   "cell_type": "code",
   "execution_count": 23,
   "metadata": {},
   "outputs": [
    {
     "data": {
      "text/plain": [
       "'Python version: 3.12.0'"
      ]
     },
     "execution_count": 23,
     "metadata": {},
     "output_type": "execute_result"
    },
    {
     "data": {
      "text/plain": [
       "'Python executable:c:\\\\Users\\\\u3184\\\\azdevops\\\\pevosdcgh\\\\AI-Gateway\\\\.venv\\\\Scripts\\\\python.exe'"
      ]
     },
     "execution_count": 23,
     "metadata": {},
     "output_type": "execute_result"
    },
    {
     "data": {
      "text/plain": [
       "'*********** Python version: details ************'"
      ]
     },
     "execution_count": 23,
     "metadata": {},
     "output_type": "execute_result"
    },
    {
     "name": "stdout",
     "output_type": "stream",
     "text": [
      "3.12.0 (tags/v3.12.0:0fb18b0, Oct  2 2023, 13:03:39) [MSC v.1935 64 bit (AMD64)]\n",
      "sys.version_info(major=3, minor=12, micro=0, releaselevel='final', serial=0)\n"
     ]
    }
   ],
   "source": [
    "from platform import python_version\n",
    "import sys\n",
    "f'Python version: {python_version()}'\n",
    "f'Python executable:{sys.executable}'\n",
    "f'*********** Python version: details ************'\n",
    "print(sys.version)\n",
    "print(sys.version_info)\n",
    "\n",
    "#get_ipython().run_line_magic('config', 'IPCompleter.greedy=True')\n",
    "#from IPython.core.interactiveshell import InteractiveShell\n",
    "#InteractiveShell.ast_node_interactivity = \"all\""
   ]
  },
  {
   "cell_type": "code",
   "execution_count": 27,
   "metadata": {},
   "outputs": [
    {
     "name": "stdout",
     "output_type": "stream",
     "text": [
      "['az', 'deployment', 'group', 'show', '--name', 'built-in-logging', '-g', 'ail-pevo1-built-in-logging', '-o', 'json']\n",
      "Exit Code: 3\n",
      "Output:\n",
      "\n",
      "Error:\n",
      "ERROR: (ResourceGroupNotFound) Resource group 'ail-pevo1-built-in-logging' could not be found.\n",
      "Code: ResourceGroupNotFound\n",
      "Message: Resource group 'ail-pevo1-built-in-logging' could not be found.\n",
      "\n"
     ]
    },
    {
     "ename": "SystemExit",
     "evalue": "Stopping the execution of the cell.",
     "output_type": "error",
     "traceback": [
      "An exception has occurred, use %tb to see the full traceback.\n",
      "\u001b[1;31mSystemExit\u001b[0m\u001b[1;31m:\u001b[0m Stopping the execution of the cell.\n"
     ]
    },
    {
     "name": "stderr",
     "output_type": "stream",
     "text": [
      "c:\\Users\\u3184\\azdevops\\pevosdcgh\\AI-Gateway\\.venv\\Lib\\site-packages\\IPython\\core\\interactiveshell.py:3585: UserWarning: To exit: use 'exit', 'quit', or Ctrl-D.\n",
      "  warn(\"To exit: use 'exit', 'quit', or Ctrl-D.\", stacklevel=1)\n"
     ]
    }
   ],
   "source": [
    "import os\n",
    "import json\n",
    "import datetime\n",
    "import platform\n",
    "import subprocess\n",
    "\n",
    "oss=platform.system()\n",
    "lab_prefix=\"ail-pevo1-\"\n",
    "tool_prefix=\"st-pevo1-\"\n",
    "deployment_name = os.path.basename(os.path.dirname(globals()['__vsc_ipynb_file__']))\n",
    "resource_group_name = f\"{lab_prefix}{deployment_name}\" # change the name to match your naming style\n",
    "\n",
    "def log(stdout, name, action):\n",
    "    if stdout.n.startswith(\"ERROR\"):\n",
    "        print(\"👎🏻 \", name, \" was NOT \", action, \": \", stdout)\n",
    "    else:\n",
    "        print(\"👍🏻 \", name, \" was \", action, \" ⌚ \", datetime.datetime.now().time())\n",
    "\n",
    "#deployment_stdout = ! az deployment group show --name {deployment_name} -g {resource_group_name} -o json\n",
    "\n",
    "cmdStr= f\"az deployment group show --name {deployment_name} -g {resource_group_name} -o json\"\n",
    "cmd=cmdStr.split(' ')\n",
    "result = subprocess.run(cmd, capture_output=True, text=True, shell=True)\n",
    "\n",
    "cmd_rtc = result.returncode\n",
    "cmd_out = result.stdout\n",
    "cmd_err = result.stderr\n",
    "\n",
    "#if ( (oss=='Windows' and exit_code != 1) or (oss=='Linux' and exit_code != 0) ): \n",
    "if ( cmd_rtc != 0 ): \n",
    "        print(\"Deployment Error\", cmd_rtc, deployment_name, resource_group_name)\n",
    "        print(cmd_err)\n",
    "        raise SystemExit(\"Stopping the execution of the cell.\") \n",
    "\n",
    "deployment = json.loads(deployment_stdout.n)\n",
    "for resource in deployment.get(\"properties\").get(\"outputResources\"):\n",
    "    resource_id = resource.get(\"id\")\n",
    "    try:\n",
    "        query = \"\\\"{type:type, name:name, location:location}\\\"\"\n",
    "        resource_stdout = ! az resource show --id {resource_id} --query {query} -o json\n",
    "        resource = json.loads(resource_stdout.n)\n",
    "        resource_name = resource.get(\"name\")\n",
    "        resource_type = resource.get(\"type\")  \n",
    "        if resource_type == \"Microsoft.CognitiveServices/accounts\":\n",
    "            resource_location = \"\\\"\" + resource.get(\"location\") + \"\\\"\"\n",
    "            delete_stdout = ! az cognitiveservices account delete -g {resource_group_name} -n {resource_name}\n",
    "            log(delete_stdout, resource_name, \"deleted\")\n",
    "            delete_stdout = ! az cognitiveservices account purge -g {resource_group_name} -n {resource_name} -l {resource_location}\n",
    "            log(delete_stdout, resource_name, \"purged\")\n",
    "        elif resource_type == \"Microsoft.ApiManagement/service\":\n",
    "            resource_location = \"\\\"\" + resource.get(\"location\") + \"\\\"\"\n",
    "            delete_stdout = ! az apim delete -n {resource_name} -g {resource_group_name} -y\n",
    "            log(delete_stdout, resource_name, \"deleted\")\n",
    "            delete_stdout = ! az apim deletedservice purge --service-name {resource_name} --location {resource_location}\n",
    "            log(delete_stdout, resource_name, \"purged\")\n",
    "    except:\n",
    "        print(\"✌🏻 \", resource_id, \" ignored\")\n",
    "delete_stdout = ! az group delete --name {resource_group_name} -y\n",
    "log(delete_stdout, resource_group_name, \"deleted\")\n",
    "\n"
   ]
  }
 ],
 "metadata": {
  "kernelspec": {
   "display_name": ".venv",
   "language": "python",
   "name": "python3"
  },
  "language_info": {
   "codemirror_mode": {
    "name": "ipython",
    "version": 3
   },
   "file_extension": ".py",
   "mimetype": "text/x-python",
   "name": "python",
   "nbconvert_exporter": "python",
   "pygments_lexer": "ipython3",
   "version": "3.12.0"
  }
 },
 "nbformat": 4,
 "nbformat_minor": 2
}
