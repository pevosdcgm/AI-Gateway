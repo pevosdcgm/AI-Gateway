{
 "cells": [
  {
   "cell_type": "markdown",
   "metadata": {},
   "source": [
    "### 🗑️ Clean up resources\n",
    "\n",
    "When you're finished with the lab, you should remove all your deployed resources from Azure to avoid extra charges and keep your Azure subscription uncluttered."
   ]
  },
  {
   "cell_type": "code",
   "execution_count": 1,
   "metadata": {},
   "outputs": [
    {
     "name": "stdout",
     "output_type": "stream",
     "text": [
      "👍🏻  apim-7krlm5qfmquwy  was  deleted  ⌚  15:44:20.497310\n",
      "👍🏻  apim-7krlm5qfmquwy  was  purged  ⌚  15:45:46.826457\n",
      "✌🏻  /subscriptions/a46c2e68-1def-41bf-b7dd-c8ec765e3367/resourceGroups/aic-pevo1-content-filtering/providers/Microsoft.ApiManagement/service/apim-7krlm5qfmquwy/apis/contentsafety  ignored\n",
      "✌🏻  /subscriptions/a46c2e68-1def-41bf-b7dd-c8ec765e3367/resourceGroups/aic-pevo1-content-filtering/providers/Microsoft.ApiManagement/service/apim-7krlm5qfmquwy/apis/contentsafety/policies/policy  ignored\n",
      "✌🏻  /subscriptions/a46c2e68-1def-41bf-b7dd-c8ec765e3367/resourceGroups/aic-pevo1-content-filtering/providers/Microsoft.ApiManagement/service/apim-7krlm5qfmquwy/apis/openai  ignored\n",
      "✌🏻  /subscriptions/a46c2e68-1def-41bf-b7dd-c8ec765e3367/resourceGroups/aic-pevo1-content-filtering/providers/Microsoft.ApiManagement/service/apim-7krlm5qfmquwy/apis/openai/diagnostics/applicationinsights  ignored\n",
      "✌🏻  /subscriptions/a46c2e68-1def-41bf-b7dd-c8ec765e3367/resourceGroups/aic-pevo1-content-filtering/providers/Microsoft.ApiManagement/service/apim-7krlm5qfmquwy/apis/openai/policies/policy  ignored\n",
      "✌🏻  /subscriptions/a46c2e68-1def-41bf-b7dd-c8ec765e3367/resourceGroups/aic-pevo1-content-filtering/providers/Microsoft.ApiManagement/service/apim-7krlm5qfmquwy/backends/openai1  ignored\n",
      "✌🏻  /subscriptions/a46c2e68-1def-41bf-b7dd-c8ec765e3367/resourceGroups/aic-pevo1-content-filtering/providers/Microsoft.ApiManagement/service/apim-7krlm5qfmquwy/loggers/apim-logger  ignored\n",
      "✌🏻  /subscriptions/a46c2e68-1def-41bf-b7dd-c8ec765e3367/resourceGroups/aic-pevo1-content-filtering/providers/Microsoft.ApiManagement/service/apim-7krlm5qfmquwy/subscriptions/openai-subscription  ignored\n",
      "👍🏻  contentsafety-7krlm5qfmquwy  was  deleted  ⌚  15:45:57.639962\n",
      "👍🏻  contentsafety-7krlm5qfmquwy  was  purged  ⌚  15:45:58.878629\n",
      "✌🏻  /subscriptions/a46c2e68-1def-41bf-b7dd-c8ec765e3367/resourceGroups/aic-pevo1-content-filtering/providers/Microsoft.CognitiveServices/accounts/contentsafety-7krlm5qfmquwy/providers/Microsoft.Authorization/roleAssignments/db9ea8cf-3776-5153-b54c-7fc2d3332824  ignored\n",
      "👍🏻  openai1-7krlm5qfmquwy  was  deleted  ⌚  15:46:03.799290\n",
      "👍🏻  openai1-7krlm5qfmquwy  was  purged  ⌚  15:46:05.335798\n",
      "✌🏻  /subscriptions/a46c2e68-1def-41bf-b7dd-c8ec765e3367/resourceGroups/aic-pevo1-content-filtering/providers/Microsoft.CognitiveServices/accounts/openai1-7krlm5qfmquwy/deployments/gpt-35-turbo  ignored\n",
      "✌🏻  /subscriptions/a46c2e68-1def-41bf-b7dd-c8ec765e3367/resourceGroups/aic-pevo1-content-filtering/providers/Microsoft.CognitiveServices/accounts/openai1-7krlm5qfmquwy/providers/Microsoft.Authorization/roleAssignments/f0bd9730-ac93-50ff-b267-08dd94b64587  ignored\n",
      "👍🏻  aic-pevo1-content-filtering  was  deleted  ⌚  15:47:26.287944\n",
      "2024-11-02T15:47:26.288048\n"
     ]
    }
   ],
   "source": [
    "import os\n",
    "import json\n",
    "import datetime\n",
    "\n",
    "lab_prefix=\"aic-pevo1-\"\n",
    "tool_prefix=\"st-pevo1-\"\n",
    "deployment_name = os.path.basename(os.path.dirname(globals()['__vsc_ipynb_file__']))\n",
    "resource_group_name = f\"{lab_prefix}{deployment_name}\" # change the name to match your naming style\n",
    "\n",
    "\n",
    "def log(stdout, name, action):\n",
    "    if stdout.n.startswith(\"ERROR\"):\n",
    "        print(\"👎🏻 \", name, \" was NOT \", action, \": \", stdout)\n",
    "    else:\n",
    "        print(\"👍🏻 \", name, \" was \", action, \" ⌚ \", datetime.datetime.now().time())\n",
    "\n",
    "deployment_stdout = ! az deployment group show --name {deployment_name} -g {resource_group_name} -o json    \n",
    "deployment = json.loads(deployment_stdout.n)\n",
    "for resource in deployment.get(\"properties\").get(\"outputResources\"):\n",
    "    resource_id = resource.get(\"id\")\n",
    "    try:\n",
    "        query = \"\\\"{type:type, name:name, location:location}\\\"\"\n",
    "        resource_stdout = ! az resource show --id {resource_id} --query {query} -o json\n",
    "        resource = json.loads(resource_stdout.n)\n",
    "        resource_name = resource.get(\"name\")\n",
    "        resource_type = resource.get(\"type\")  \n",
    "        if resource_type == \"Microsoft.CognitiveServices/accounts\":\n",
    "            resource_location = \"\\\"\" + resource.get(\"location\") + \"\\\"\"\n",
    "            delete_stdout = ! az cognitiveservices account delete -g {resource_group_name} -n {resource_name}\n",
    "            log(delete_stdout, resource_name, \"deleted\")\n",
    "            delete_stdout = ! az cognitiveservices account purge -g {resource_group_name} -n {resource_name} -l {resource_location}\n",
    "            log(delete_stdout, resource_name, \"purged\")\n",
    "        elif resource_type == \"Microsoft.ApiManagement/service\":\n",
    "            resource_location = \"\\\"\" + resource.get(\"location\") + \"\\\"\"\n",
    "            delete_stdout = ! az apim delete -n {resource_name} -g {resource_group_name} -y\n",
    "            log(delete_stdout, resource_name, \"deleted\")\n",
    "            delete_stdout = ! az apim deletedservice purge --service-name {resource_name} --location {resource_location}\n",
    "            log(delete_stdout, resource_name, \"purged\")\n",
    "    except:\n",
    "        print(\"✌🏻 \", resource_id, \" ignored\")\n",
    "delete_stdout = ! az group delete --name {resource_group_name} -y\n",
    "log(delete_stdout, resource_group_name, \"deleted\")\n",
    "\n",
    "print(datetime.datetime.now().isoformat())\n",
    "\n",
    "\n"
   ]
  }
 ],
 "metadata": {
  "kernelspec": {
   "display_name": ".venv",
   "language": "python",
   "name": "python3"
  },
  "language_info": {
   "codemirror_mode": {
    "name": "ipython",
    "version": 3
   },
   "file_extension": ".py",
   "mimetype": "text/x-python",
   "name": "python",
   "nbconvert_exporter": "python",
   "pygments_lexer": "ipython3",
   "version": "3.12.7"
  }
 },
 "nbformat": 4,
 "nbformat_minor": 2
}
