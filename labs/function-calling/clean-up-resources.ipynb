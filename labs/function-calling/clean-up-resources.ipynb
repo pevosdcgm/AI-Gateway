{
 "cells": [
  {
   "cell_type": "markdown",
   "metadata": {},
   "source": [
    "### 🗑️ Clean up resources\n",
    "\n",
    "When you're finished with the lab, you should remove all your deployed resources from Azure to avoid extra charges and keep your Azure subscription uncluttered."
   ]
  },
  {
   "cell_type": "code",
   "execution_count": 14,
   "metadata": {},
   "outputs": [
    {
     "name": "stdout",
     "output_type": "stream",
     "text": [
      "Deployment Error 3 function-calling aif-pevo-function-calling\n",
      "ERROR: (ResourceGroupNotFound) Resource group 'aif-pevo-function-calling' could not be found.\n",
      "Code: ResourceGroupNotFound\n",
      "Message: Resource group 'aif-pevo-function-calling' could not be found.\n",
      "\n"
     ]
    },
    {
     "ename": "AttributeError",
     "evalue": "'IPythonKernel' object has no attribute 'interrupt'",
     "output_type": "error",
     "traceback": [
      "\u001b[1;31m---------------------------------------------------------------------------\u001b[0m",
      "\u001b[1;31mAttributeError\u001b[0m                            Traceback (most recent call last)",
      "Cell \u001b[1;32mIn[14], line 38\u001b[0m\n\u001b[0;32m     36\u001b[0m         \u001b[38;5;28mprint\u001b[39m(\u001b[38;5;124m\"\u001b[39m\u001b[38;5;124mDeployment Error\u001b[39m\u001b[38;5;124m\"\u001b[39m, cmd_rtc, deployment_name, resource_group_name)\n\u001b[0;32m     37\u001b[0m         \u001b[38;5;28mprint\u001b[39m(cmd_err)\n\u001b[1;32m---> 38\u001b[0m         \u001b[43mget_ipython\u001b[49m\u001b[43m(\u001b[49m\u001b[43m)\u001b[49m\u001b[38;5;241;43m.\u001b[39;49m\u001b[43mkernel\u001b[49m\u001b[38;5;241;43m.\u001b[39;49m\u001b[43minterrupt\u001b[49m()\n\u001b[0;32m     40\u001b[0m         \u001b[38;5;66;03m#raise SystemExit(\"Stopping the execution of the cell.\") \u001b[39;00m\n\u001b[0;32m     41\u001b[0m \n\u001b[0;32m     42\u001b[0m \u001b[38;5;66;03m#deployment_stdout = ! az deployment group show --name {deployment_name} -g {resource_group_name} -o json   \u001b[39;00m\n\u001b[0;32m     43\u001b[0m \u001b[38;5;66;03m#print(deployment_stdout)\u001b[39;00m\n\u001b[0;32m     44\u001b[0m \u001b[38;5;28;01massert\u001b[39;00m(\u001b[38;5;28;01mFalse\u001b[39;00m)\n",
      "\u001b[1;31mAttributeError\u001b[0m: 'IPythonKernel' object has no attribute 'interrupt'"
     ]
    }
   ],
   "source": [
    "import os\n",
    "import json\n",
    "import datetime\n",
    "import subprocess\n",
    "import IPython\n",
    "import IPython.display\n",
    "#from IPython.core.getipython import get_ipython\n",
    "\n",
    "\n",
    "lab_prefix=\"aif-pevo-\"\n",
    "tool_prefix=\"st-pevo1-\"\n",
    "deployment_name = os.path.basename(os.path.dirname(globals()['__vsc_ipynb_file__']))\n",
    "resource_group_name = f\"{lab_prefix}{deployment_name}\" # change the name to match your naming style\n",
    "\n",
    "def stop():\n",
    "    return\n",
    "\n",
    "def log(stdout, name, action):\n",
    "    if stdout.n.startswith(\"ERROR\"):\n",
    "        print(\"👎🏻 \", name, \" was NOT \", action, \": \", stdout)\n",
    "    else:\n",
    "        print(\"👍🏻 \", name, \" was \", action, \" ⌚ \", datetime.datetime.now().time())\n",
    "\n",
    "#oss=platform.system()\n",
    "cmdStr= f\"az deployment group show --name {deployment_name} -g {resource_group_name} -o json\"\n",
    "cmd=cmdStr.split(' ')\n",
    "result = subprocess.run(cmd, capture_output=True, text=True, shell=True)\n",
    "\n",
    "cmd_rtc = result.returncode\n",
    "cmd_out = result.stdout\n",
    "cmd_err = result.stderr\n",
    "\n",
    "#if ( (oss=='Windows' and exit_code != 1) or (oss=='Linux' and exit_code != 0) ): \n",
    "if ( cmd_rtc != 0 ): \n",
    "        print(\"Deployment Error\", cmd_rtc, deployment_name, resource_group_name)\n",
    "        print(cmd_err)\n",
    "        assert(False)\n",
    "\n",
    "        #raise SystemExit(\"Stopping the execution of the cell.\") \n",
    "\n",
    "#deployment_stdout = ! az deployment group show --name {deployment_name} -g {resource_group_name} -o json   \n",
    "#print(deployment_stdout)\n",
    "\n",
    "#deployment = json.loads(deployment_stdout.n)\n",
    "deployment = json.loads(cmd_out)\n",
    "for resource in deployment.get(\"properties\").get(\"outputResources\"):\n",
    "    resource_id = resource.get(\"id\")\n",
    "    try:\n",
    "        query = \"\\\"{type:type, name:name, location:location}\\\"\"\n",
    "        resource_stdout = ! az resource show --id {resource_id} --query {query} -o json\n",
    "        resource = json.loads(resource_stdout.n)\n",
    "        resource_name = resource.get(\"name\")\n",
    "        resource_type = resource.get(\"type\")  \n",
    "        if resource_type == \"Microsoft.CognitiveServices/accounts\":\n",
    "            resource_location = \"\\\"\" + resource.get(\"location\") + \"\\\"\"\n",
    "            delete_stdout = ! az cognitiveservices account delete -g {resource_group_name} -n {resource_name}\n",
    "            log(delete_stdout, resource_name, \"deleted\")\n",
    "            delete_stdout = ! az cognitiveservices account purge -g {resource_group_name} -n {resource_name} -l {resource_location}\n",
    "            log(delete_stdout, resource_name, \"purged\")\n",
    "        elif resource_type == \"Microsoft.ApiManagement/service\":\n",
    "            resource_location = \"\\\"\" + resource.get(\"location\") + \"\\\"\"\n",
    "            delete_stdout = ! az apim delete -n {resource_name} -g {resource_group_name} -y\n",
    "            log(delete_stdout, resource_name, \"deleted\")\n",
    "            delete_stdout = ! az apim deletedservice purge --service-name {resource_name} --location {resource_location}\n",
    "            log(delete_stdout, resource_name, \"purged\")\n",
    "    except:\n",
    "        print(\"✌🏻 \", resource_id, \" ignored\")\n",
    "delete_stdout = ! az group delete --name {resource_group_name} -y\n",
    "log(delete_stdout, resource_group_name, \"deleted\")\n",
    "\n"
   ]
  }
 ],
 "metadata": {
  "kernelspec": {
   "display_name": ".venv",
   "language": "python",
   "name": "python3"
  },
  "language_info": {
   "codemirror_mode": {
    "name": "ipython",
    "version": 3
   },
   "file_extension": ".py",
   "mimetype": "text/x-python",
   "name": "python",
   "nbconvert_exporter": "python",
   "pygments_lexer": "ipython3",
   "version": "3.12.0"
  }
 },
 "nbformat": 4,
 "nbformat_minor": 2
}
