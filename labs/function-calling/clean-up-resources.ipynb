{
 "cells": [
  {
   "cell_type": "markdown",
   "metadata": {},
   "source": [
    "### 🗑️ Clean up resources\n",
    "\n",
    "When you're finished with the lab, you should remove all your deployed resources from Azure to avoid extra charges and keep your Azure subscription uncluttered."
   ]
  },
  {
   "cell_type": "code",
   "execution_count": 15,
   "metadata": {},
   "outputs": [],
   "source": [
    "import os\n",
    "import json\n",
    "import datetime\n",
    "import subprocess\n",
    "import platform"
   ]
  },
  {
   "cell_type": "code",
   "execution_count": 16,
   "metadata": {},
   "outputs": [],
   "source": [
    "def log2(result, name, action):\n",
    "    if result.returncode != 0:\n",
    "        print(\"👎🏻 \", name, \" was NOT \", action, \": \", result.stderr)\n",
    "    else:\n",
    "        print(\"👍🏻 \", name, \" was \", action, \" ⌚ \", datetime.datetime.now().time())\n",
    "\n",
    "def run_command(cmd_str, name, action):\n",
    "    oss=platform.system()\n",
    "    if (oss=='Windows'):\n",
    "        cmd=cmd_str.split(' ')\n",
    "    else:\n",
    "        cmd=cmd_str\n",
    "    try:\n",
    "        result = subprocess.run(cmd, capture_output=True, text=True, shell=True, universal_newlines=True)\n",
    "\n",
    "        #stdout = subprocess.run(cmd, shell=True, check=True, stdout=subprocess.PIPE, stderr=subprocess.PIPE, universal_newlines=True)\n",
    "        log2(result, name, action)\n",
    "    except subprocess.CalledProcessError as e:\n",
    "        print(f\"Unknown Error\\n{e.stderr}\\n\")\n",
    "        raise e\n",
    "    return result"
   ]
  },
  {
   "cell_type": "code",
   "execution_count": 18,
   "metadata": {},
   "outputs": [
    {
     "name": "stdout",
     "output_type": "stream",
     "text": [
      "👎🏻 No active deployments:  [\"ERROR: (ResourceGroupNotFound) Resource group 'aif-pevo2-function-calling' could not be found.\", 'Code: ResourceGroupNotFound', \"Message: Resource group 'aif-pevo2-function-calling' could not be found.\"]\n"
     ]
    },
    {
     "ename": "KeyboardInterrupt",
     "evalue": "",
     "output_type": "error",
     "traceback": [
      "\u001b[1;31m---------------------------------------------------------------------------\u001b[0m",
      "\u001b[1;31mKeyboardInterrupt\u001b[0m                         Traceback (most recent call last)",
      "Cell \u001b[1;32mIn[18], line 26\u001b[0m\n\u001b[0;32m     24\u001b[0m \u001b[38;5;28;01mif\u001b[39;00m deployment_stdout\u001b[38;5;241m.\u001b[39mn\u001b[38;5;241m.\u001b[39mstartswith(\u001b[38;5;124m\"\u001b[39m\u001b[38;5;124mERROR\u001b[39m\u001b[38;5;124m\"\u001b[39m):\n\u001b[0;32m     25\u001b[0m     \u001b[38;5;28mprint\u001b[39m(\u001b[38;5;124m\"\u001b[39m\u001b[38;5;124m👎🏻 No active deployments: \u001b[39m\u001b[38;5;124m\"\u001b[39m, deployment_stdout)\n\u001b[1;32m---> 26\u001b[0m     \u001b[38;5;28;01mraise\u001b[39;00m \u001b[38;5;167;01mKeyboardInterrupt\u001b[39;00m\n\u001b[0;32m     30\u001b[0m \u001b[38;5;28;01mdef\u001b[39;00m \u001b[38;5;21mlog\u001b[39m(stdout, name, action):\n\u001b[0;32m     31\u001b[0m     \u001b[38;5;28;01mif\u001b[39;00m stdout\u001b[38;5;241m.\u001b[39mn\u001b[38;5;241m.\u001b[39mstartswith(\u001b[38;5;124m\"\u001b[39m\u001b[38;5;124mERROR\u001b[39m\u001b[38;5;124m\"\u001b[39m):\n",
      "\u001b[1;31mKeyboardInterrupt\u001b[0m: "
     ]
    },
    {
     "ename": "",
     "evalue": "",
     "output_type": "error",
     "traceback": [
      "\u001b[1;31mThe Kernel crashed while executing code in the current cell or a previous cell. \n",
      "\u001b[1;31mPlease review the code in the cell(s) to identify a possible cause of the failure. \n",
      "\u001b[1;31mClick <a href='https://aka.ms/vscodeJupyterKernelCrash'>here</a> for more info. \n",
      "\u001b[1;31mView Jupyter <a href='command:jupyter.viewOutput'>log</a> for further details."
     ]
    }
   ],
   "source": [
    "lab_prefix=\"aif-pevo2-\"\n",
    "tool_prefix=\"st-pevo1-\"\n",
    "deployment_name = os.path.basename(os.path.dirname(globals()['__vsc_ipynb_file__']))\n",
    "resource_group_name = f\"{lab_prefix}{deployment_name}\" # change the name to match your naming style\n",
    "\n",
    "#cmd_str= f\"az deployment group show --name {deployment_name} -g {resource_group_name} -o json\"\n",
    "#result=run_command(cmd_str, deployment_name, \"deployment group show\")\n",
    "#cmd_rtc = result.returncode\n",
    "#cmd_out = result.stdout\n",
    "#cmd_err = result.stderr\n",
    "\n",
    "\n",
    "#if ( (oss=='Windows' and exit_code != 1) or (oss=='Linux' and exit_code != 0) ): \n",
    "#if ( cmd_rtc != 0 ): \n",
    "#    print(\"Deployment Error Exiting\", cmd_rtc, deployment_name, resource_group_name)\n",
    "#    raise KeyboardInterrupt\n",
    "\n",
    "#deployment = json.loads(cmd_out)\n",
    "\n",
    "        #raise SystemExit(\"Stopping the execution of the cell.\") \n",
    "\n",
    "deployment_stdout = ! az deployment group show --name {deployment_name} -g {resource_group_name} -o json   \n",
    "#print(deployment_stdout)\n",
    "if deployment_stdout.n.startswith(\"ERROR\"):\n",
    "    print(\"👎🏻 No active deployments: \\n\", deployment_stdout)\n",
    "    raise KeyboardInterrupt\n",
    "\n",
    "def log(stdout, name, action):\n",
    "    if stdout.n.startswith(\"ERROR\"):\n",
    "        print(\"👎🏻 \", name, \" was NOT \", action, \": \", stdout)\n",
    "    else:\n",
    "        print(\"👍🏻 \", name, \" was \", action, \" ⌚ \", datetime.datetime.now().time())\n",
    "\n",
    "deployment = json.loads(deployment_stdout.n)\n",
    "\n",
    "for resource in deployment.get(\"properties\").get(\"outputResources\"):\n",
    "    resource_id = resource.get(\"id\")\n",
    "    try:\n",
    "        query = \"\\\"{type:type, name:name, location:location}\\\"\"\n",
    "        resource_stdout = ! az resource show --id {resource_id} --query {query} -o json\n",
    "        resource = json.loads(resource_stdout.n)\n",
    "        resource_name = resource.get(\"name\")\n",
    "        resource_type = resource.get(\"type\")  \n",
    "        if resource_type == \"Microsoft.CognitiveServices/accounts\":\n",
    "            resource_location = \"\\\"\" + resource.get(\"location\") + \"\\\"\"\n",
    "            delete_stdout = ! az cognitiveservices account delete -g {resource_group_name} -n {resource_name}\n",
    "            log(delete_stdout, resource_name, \"deleted\")\n",
    "            delete_stdout = ! az cognitiveservices account purge -g {resource_group_name} -n {resource_name} -l {resource_location}\n",
    "            log(delete_stdout, resource_name, \"purged\")\n",
    "        elif resource_type == \"Microsoft.ApiManagement/service\":\n",
    "            resource_location = \"\\\"\" + resource.get(\"location\") + \"\\\"\"\n",
    "            delete_stdout = ! az apim delete -n {resource_name} -g {resource_group_name} -y\n",
    "            log(delete_stdout, resource_name, \"deleted\")\n",
    "            delete_stdout = ! az apim deletedservice purge --service-name {resource_name} --location {resource_location}\n",
    "            log(delete_stdout, resource_name, \"purged\")\n",
    "    except:\n",
    "        print(\"✌🏻 \", resource_id, \" ignored\")\n",
    "delete_stdout = ! az group delete --name {resource_group_name} -y\n",
    "log(delete_stdout, resource_group_name, \"deleted\")\n",
    "\n"
   ]
  }
 ],
 "metadata": {
  "kernelspec": {
   "display_name": ".venv",
   "language": "python",
   "name": "python3"
  },
  "language_info": {
   "codemirror_mode": {
    "name": "ipython",
    "version": 3
   },
   "file_extension": ".py",
   "mimetype": "text/x-python",
   "name": "python",
   "nbconvert_exporter": "python",
   "pygments_lexer": "ipython3",
   "version": "3.12.0"
  }
 },
 "nbformat": 4,
 "nbformat_minor": 2
}
